{
 "cells": [
  {
   "cell_type": "code",
   "execution_count": null,
   "id": "5920d26b",
   "metadata": {},
   "outputs": [],
   "source": [
    "import pandas as pd\n",
    "from sklearn.model_selection import train_test_split\n",
    "from sklearn.linear_model import LinearRegression\n",
    "from sklearn.metrics import mean_squared_error\n",
    "\n",
    "abalone_data = pd.read_csv('abalone.csv')\n",
    "\n",
    "abalone_data = pd.get_dummies(abalone_data, columns=['Sex'])\n",
    "\n",
    "# Add 'age' column based on 'Rings' column\n",
    "# abalone_data['age'] = abalone_data['Rings'] + 1.5\n",
    "\n",
    "# Split the dataset into features (X) and target (y)\n",
    "# X = abalone_data.drop(['Rings', 'age'], axis=1)\n",
    "\n",
    "X = abalone_data.drop('Rings', axis=1)\n",
    "y = abalone_data['Rings']\n",
    "\n",
    "X_train, X_test, y_train, y_test = train_test_split(X, y, test_size=0.3, random_state=42)\n",
    "\n",
    "regressor = LinearRegression()\n",
    "\n",
    "regressor.fit(X_train, y_train)\n",
    "\n",
    "predictions = regressor.predict(X_test)\n",
    "\n",
    "mse = mean_squared_error(y_test, predictions)\n",
    "print(\"Mean Squared Error:\", mse)\n"
   ]
  }
 ],
 "metadata": {
  "kernelspec": {
   "display_name": "Python 3 (ipykernel)",
   "language": "python",
   "name": "python3"
  },
  "language_info": {
   "codemirror_mode": {
    "name": "ipython",
    "version": 3
   },
   "file_extension": ".py",
   "mimetype": "text/x-python",
   "name": "python",
   "nbconvert_exporter": "python",
   "pygments_lexer": "ipython3",
   "version": "3.10.9"
  }
 },
 "nbformat": 4,
 "nbformat_minor": 5
}
