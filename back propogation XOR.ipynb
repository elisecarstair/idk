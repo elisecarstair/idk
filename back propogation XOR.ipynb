{
 "cells": [
  {
   "cell_type": "code",
   "execution_count": 1,
   "metadata": {},
   "outputs": [
    {
     "name": "stdout",
     "output_type": "stream",
     "text": [
      "[[-6.42846053  8.13756577]\n",
      " [-6.42194854  8.10361384]]\n",
      "[[11.75139815]\n",
      " [11.59436391]]\n",
      "Expected output:\n",
      " [[0]\n",
      " [1]\n",
      " [1]\n",
      " [0]]\n",
      "Predicted output:\n",
      " [[0.]\n",
      " [1.]\n",
      " [1.]\n",
      " [0.]]\n"
     ]
    }
   ],
   "source": [
    "import numpy as np\n",
    "\n",
    "# Define the input data and expected output\n",
    "X = np.array([[0,0],[0,1],[1,0],[1,1]])\n",
    "y = np.array([[0],[1],[1],[0]])\n",
    "\n",
    "# Define the sigmoid activation function\n",
    "def sigmoid(x):\n",
    "    return 1 / (1 + np.exp(-x))\n",
    "\n",
    "# Define the derivative of the sigmoid function\n",
    "def sigmoid_derivative(x):\n",
    "    return sigmoid(x) * (1 - sigmoid(x))\n",
    "\n",
    "# Set the learning rate and number of iterations\n",
    "learning_rate = 0.1\n",
    "num_iterations = 1000000\n",
    "\n",
    "# Define the network architecture\n",
    "input_layer_size = 2\n",
    "hidden_layer_size = 2\n",
    "output_layer_size = 1\n",
    "\n",
    "# Initialize the weights and biases for the hidden and output layers\n",
    "W1 = np.random.randn(input_layer_size, hidden_layer_size)\n",
    "b1 = np.random.randn(1, hidden_layer_size)\n",
    "W2 = np.random.randn(hidden_layer_size, output_layer_size)\n",
    "b2 = np.random.randn(1, output_layer_size)\n",
    "\n",
    "# Train the network using backpropagation\n",
    "for i in range(num_iterations):\n",
    "\n",
    "    # Forward pass\n",
    "    hidden_layer_input = np.dot(X, W1) + b1\n",
    "    hidden_layer_output = sigmoid(hidden_layer_input)\n",
    "    output_layer_input = np.dot(hidden_layer_output, W2) + b2\n",
    "    output_layer_output = sigmoid(output_layer_input)\n",
    "\n",
    "    # Calculate the error between the predicted output and the actual output\n",
    "    error = y - output_layer_output\n",
    "    \n",
    "    # Backward pass\n",
    "    output_layer_error = error * sigmoid_derivative(output_layer_input)\n",
    "    hidden_layer_error = np.dot(output_layer_error, W2.T) * sigmoid_derivative(hidden_layer_input)\n",
    "    \n",
    "    # Update the weights and biases using the calculated errors and the learning rate\n",
    "    W2 += learning_rate * np.dot(hidden_layer_output.T, output_layer_error)\n",
    "    b2 += learning_rate * np.sum(output_layer_error, axis=0, keepdims=True)\n",
    "    W1 += learning_rate * np.dot(X.T, hidden_layer_error)\n",
    "    b1 += learning_rate * np.sum(hidden_layer_error, axis=0, keepdims=True)\n",
    "\n",
    "# Print the final output and the predicted output\n",
    "print(W1)\n",
    "print(W2)\n",
    "print(\"Expected output:\\n\", y)\n",
    "print(\"Predicted output:\\n\", np.round(output_layer_output))\n",
    "\n"
   ]
  },
  {
   "cell_type": "code",
   "execution_count": null,
   "metadata": {},
   "outputs": [],
   "source": []
  }
 ],
 "metadata": {
  "kernelspec": {
   "display_name": "Python 3",
   "language": "python",
   "name": "python3"
  },
  "language_info": {
   "codemirror_mode": {
    "name": "ipython",
    "version": 3
   },
   "file_extension": ".py",
   "mimetype": "text/x-python",
   "name": "python",
   "nbconvert_exporter": "python",
   "pygments_lexer": "ipython3",
   "version": "3.8.5"
  }
 },
 "nbformat": 4,
 "nbformat_minor": 4
}
