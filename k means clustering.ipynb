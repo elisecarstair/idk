{
 "cells": [
  {
   "cell_type": "code",
   "execution_count": 9,
   "metadata": {},
   "outputs": [
    {
     "name": "stdout",
     "output_type": "stream",
     "text": [
      "P6 belongs to Cluster 1\n"
     ]
    }
   ],
   "source": [
    "import numpy as np\n",
    "\n",
    " #Define the given points\n",
    "points = np.array([[0.1, 0.6],\n",
    "                   [0.15, 0.71],\n",
    "                   [0.08, 0.9],\n",
    "                   [0.16, 0.85],\n",
    "                   [0.2, 0.3],\n",
    "                   [0.25, 0.5],\n",
    "                   [0.24, 0.1],\n",
    "                   [0.3, 0.2]])\n",
    "\n",
    "# Define the initial centroids\n",
    "m1 = np.array([0.1, 0.6])\n",
    "m2 = np.array([0.3, 0.2])\n",
    "\n",
    "# Assign the initial clusters\n",
    "C1 = []\n",
    "C2 = []\n",
    "\n",
    "# Loop until convergence\n",
    "while True:\n",
    "    # Assign points to clusters\n",
    "    for point in points:\n",
    "        dist1 = np.linalg.norm(point - m1)\n",
    "        dist2 = np.linalg.norm(point - m2)\n",
    "        if dist1 < dist2:\n",
    "            C1.append(point)\n",
    "        else:\n",
    "            C2.append(point)\n",
    "\n",
    "    # Update the centroids\n",
    "    new_m1 = np.mean(C1, axis=0)\n",
    "    new_m2 = np.mean(C2, axis=0)\n",
    "\n",
    "    # Check for convergence\n",
    "    if np.array_equal(m1, new_m1) and np.array_equal(m2, new_m2):\n",
    "        break\n",
    "    else:\n",
    "        m1 = new_m1\n",
    "        m2 = new_m2\n",
    "        C1 = []\n",
    "        C2 = []\n",
    "\n",
    "# Find the cluster of P6\n",
    "for point in points:\n",
    "    if np.array_equal(point, [0.25, 0.5]):\n",
    "        if (C1 == point).all(1).any():\n",
    "            print(\"P6 belongs to Cluster 1\")\n",
    "        else:\n",
    "            print(\"P6 belongs to Cluster 2\")\n"
   ]
  },
  {
   "cell_type": "code",
   "execution_count": 10,
   "metadata": {
    "scrolled": true
   },
   "outputs": [
    {
     "name": "stdout",
     "output_type": "stream",
     "text": [
      "Population of cluster around m2: 3\n"
     ]
    }
   ],
   "source": [
    "# Population of cluster around m2\n",
    "print(f\"Population of cluster around m2: {len(C2)}\")"
   ]
  },
  {
   "cell_type": "code",
   "execution_count": 11,
   "metadata": {},
   "outputs": [
    {
     "name": "stdout",
     "output_type": "stream",
     "text": [
      "Updated value of m1: [0.148 0.712]\n",
      "Updated value of m2: [0.24666667 0.2       ]\n"
     ]
    }
   ],
   "source": [
    "# Updated value of m1 and m2\n",
    "print(f\"Updated value of m1: {m1}\")\n",
    "print(f\"Updated value of m2: {m2}\")"
   ]
  },
  {
   "cell_type": "code",
   "execution_count": 12,
   "metadata": {},
   "outputs": [],
   "source": [
    "import numpy as np\n",
    "points=np.array([[0.1, 0.6],\n",
    "                   [0.15, 0.71],\n",
    "                   [0.08, 0.9],\n",
    "                   [0.16, 0.85],\n",
    "                   [0.2, 0.3],\n",
    "                   [0.25, 0.5],\n",
    "                   [0.24, 0.1],\n",
    "                   [0.3, 0.2]])"
   ]
  },
  {
   "cell_type": "code",
   "execution_count": 13,
   "metadata": {},
   "outputs": [],
   "source": [
    "m1=np.array([0.1,0.6])\n",
    "m2=np.array([0.3,0.2])\n"
   ]
  },
  {
   "cell_type": "code",
   "execution_count": 14,
   "metadata": {},
   "outputs": [],
   "source": [
    "c1=[]\n",
    "c2=[]"
   ]
  },
  {
   "cell_type": "code",
   "execution_count": null,
   "metadata": {},
   "outputs": [],
   "source": [
    "while True:\n",
    "    for point in points:\n",
    "        dist1=np.linalg.norm(point-m1)\n",
    "        dist2=np.linalg.norm(point-m2)\n",
    "        if dist1<dist2:\n",
    "            c1.append(point)\n",
    "        else :\n",
    "            c2.append(point)\n",
    "        "
   ]
  },
  {
   "cell_type": "code",
   "execution_count": null,
   "metadata": {},
   "outputs": [],
   "source": [
    "new_m1=np.mean(c1,axis=0)\n",
    "new_m2=np.mean(c2,axis=0)"
   ]
  },
  {
   "cell_type": "code",
   "execution_count": null,
   "metadata": {},
   "outputs": [],
   "source": [
    "if(np.array_equal(m1,new_m1) and np.array_equal(m2,new_m2)):\n",
    "    break\n",
    "    else:\n",
    "        m1=new_m1\n",
    "        m2=new_m2\n",
    "        c1=[]\n",
    "        c2=[]\n",
    "        "
   ]
  },
  {
   "cell_type": "code",
   "execution_count": null,
   "metadata": {},
   "outputs": [],
   "source": [
    "for point in points:\n",
    "    np.array_equal(point ,[0.25, 0.5]):\n",
    "        if (C1 == point).all(1).any():\n",
    "            print(\"P6 belongs to Cluster 1\")\n",
    "        else:\n",
    "            print(\"P6 belongs to Cluster 2\")"
   ]
  },
  {
   "cell_type": "code",
   "execution_count": null,
   "metadata": {},
   "outputs": [],
   "source": []
  }
 ],
 "metadata": {
  "kernelspec": {
   "display_name": "Python 3",
   "language": "python",
   "name": "python3"
  },
  "language_info": {
   "codemirror_mode": {
    "name": "ipython",
    "version": 3
   },
   "file_extension": ".py",
   "mimetype": "text/x-python",
   "name": "python",
   "nbconvert_exporter": "python",
   "pygments_lexer": "ipython3",
   "version": "3.8.5"
  }
 },
 "nbformat": 4,
 "nbformat_minor": 4
}
