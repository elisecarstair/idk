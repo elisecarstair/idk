{
 "cells": [
  {
   "cell_type": "code",
   "execution_count": 4,
   "id": "b11dceed",
   "metadata": {},
   "outputs": [
    {
     "data": {
      "image/png": "[encoded data removed]",
      "text/plain": [
       "<Figure size 432x288 with 1 Axes>"
      ]
     },
     "metadata": {
      "needs_background": "light"
     },
     "output_type": "display_data"
    }
   ],
   "source": [
    "import numpy as np\n",
    "import matplotlib.pyplot as plt\n",
    "\n",
    "# Define the training data\n",
    "x = np.array([[5, 8], [1, 1], [5, 1], [8, 1], [4, 2], [3, 6],\n",
    "              [3, 7], [7, 6], [2, 4], [2, 3], [3, 1], [6, 4]])\n",
    "y = np.array([[1], [0], [0], [1], [0], [1], [1], [1], [0], [0], [0], [1]])\n",
    "\n",
    "# Augment the input data with a bias term\n",
    "x = np.insert(x, 0, 1, axis=1)\n",
    "\n",
    "# Initialize weights randomly\n",
    "weights = np.random.randn(x.shape[1])\n",
    "\n",
    "# Set the learning rate and number of epochs\n",
    "learning_rate = 0.1\n",
    "num_epochs = 100\n",
    "\n",
    "# Train the perceptron\n",
    "for epoch in range(num_epochs):\n",
    "    errors = 0\n",
    "    for input, target in zip(x, y):\n",
    "        # Calculate the dot product of input and weights\n",
    "        dot_product = np.dot(input, weights)\n",
    "\n",
    "        # Predict the output\n",
    "        if dot_product > 0:\n",
    "            prediction = 1\n",
    "        else:\n",
    "            prediction = 0\n",
    "\n",
    "        # Update the weights if the prediction is wrong\n",
    "        if prediction != target:\n",
    "            weights += learning_rate * (target - prediction) * input\n",
    "\n",
    "            # Increment the number of errors\n",
    "            errors += 1\n",
    "\n",
    "    # Print the error rate for the current epoch\n",
    "    # print(\"Epoch: {}, Error rate: {:.2f}\".format(epoch, errors / len(x)))\n",
    "\n",
    "# Plot the data points with different colors depending on the value of y\n",
    "colors = ['red' if y_i == 1 else 'blue' for y_i in y]\n",
    "plt.scatter(x[:, 1], x[:, 2], color=colors)\n",
    "\n",
    "# Plot the decision boundary\n",
    "x_min, x_max = x[:, 1].min() - 1, x[:, 1].max() + 1\n",
    "y_min, y_max = x[:, 2].min() - 1, x[:, 2].max() + 1\n",
    "xx, yy = np.meshgrid(np.arange(x_min, x_max, 0.1),\n",
    "                     np.arange(y_min, y_max, 0.1))\n",
    "Z = np.dot(np.c_[np.ones((xx.ravel().shape[0], 1)),\n",
    "                  xx.ravel(),\n",
    "                  yy.ravel()], weights)\n",
    "Z = np.where(Z > 0, 1, 0)\n",
    "Z = Z.reshape(xx.shape)\n",
    "plt.contourf(xx, yy, Z, alpha=0.2)\n",
    "\n",
    "# Show the plot\n",
    "plt.show()\n"
   ]
  }
 ],
 "metadata": {
  "kernelspec": {
   "display_name": "Python 3 (ipykernel)",
   "language": "python",
   "name": "python3"
  },
  "language_info": {
   "codemirror_mode": {
    "name": "ipython",
    "version": 3
   },
   "file_extension": ".py",
   "mimetype": "text/x-python",
   "name": "python",
   "nbconvert_exporter": "python",
   "pygments_lexer": "ipython3",
   "version": "3.10.8"
  }
 },
 "nbformat": 4,
 "nbformat_minor": 5
}
