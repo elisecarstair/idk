{
 "cells": [
  {
   "cell_type": "code",
   "execution_count": 1,
   "id": "56393301",
   "metadata": {},
   "outputs": [
    {
     "data": {
      "image/png": "[encoded data removed]",
      "text/plain": [
       "<Figure size 432x288 with 1 Axes>"
      ]
     },
     "metadata": {
      "needs_background": "light"
     },
     "output_type": "display_data"
    },
    {
     "name": "stdout",
     "output_type": "stream",
     "text": [
      "1] P6 belongs to Cluster 2\n",
      "2] Population of cluster around m2: 3\n",
      "3] Updated value of m1: [0.148 0.712]\n",
      "   Updated value of m2: [0.24666667 0.2       ]\n"
     ]
    }
   ],
   "source": [
    "import numpy as np\n",
    "import matplotlib.pyplot as plt\n",
    "\n",
    "# Define the initial centroids\n",
    "m1 = np.array([0.1, 0.6])\n",
    "m2 = np.array([0.3, 0.2])\n",
    "\n",
    "# Define the collection of points\n",
    "points = np.array([[0.1, 0.6],\n",
    "                   [0.15, 0.71],\n",
    "                   [0.08, 0.9],\n",
    "                   [0.16, 0.85],\n",
    "                   [0.2, 0.3],\n",
    "                   [0.25, 0.5],\n",
    "                   [0.24, 0.1],\n",
    "                   [0.3, 0.2]])\n",
    "\n",
    "# Perform k-means clustering calculations\n",
    "clusters = {}\n",
    "for point in points:\n",
    "    dist1 = np.linalg.norm(point - m1)\n",
    "    dist2 = np.linalg.norm(point - m2)\n",
    "    cluster = 1 if dist1 < dist2 else 2\n",
    "    clusters.setdefault(cluster, []).append(point)\n",
    "\n",
    "# Answer the questions\n",
    "p6_cluster = 1 if np.array_equal(clusters[1], points[5]) else 2\n",
    "m2_population = len(clusters[2])\n",
    "updated_m1 = np.mean(clusters[1], axis=0)\n",
    "updated_m2 = np.mean(clusters[2], axis=0)\n",
    "\n",
    "# Plotting the clusters\n",
    "plt.scatter(points[:, 0], points[:, 1], c='blue', label='Points')\n",
    "plt.scatter(m1[0], m1[1], c='red', marker='*', label='m1')\n",
    "plt.scatter(m2[0], m2[1], c='green', marker='*', label='m2')\n",
    "\n",
    "# Plotting the updated centroids\n",
    "plt.scatter(updated_m1[0], updated_m1[1], c='red', marker='*', label='Updated m1')\n",
    "plt.scatter(updated_m2[0], updated_m2[1], c='green', marker='*', label='Updated m2')\n",
    "\n",
    "# Plotting the clusters' points\n",
    "cluster1_points = np.array(clusters[1])\n",
    "cluster2_points = np.array(clusters[2])\n",
    "plt.scatter(cluster1_points[:, 0], cluster1_points[:, 1], c='blue', label='Cluster 1')\n",
    "plt.scatter(cluster2_points[:, 0], cluster2_points[:, 1], c='orange', label='Cluster 2')\n",
    "\n",
    "# Plotting the circles around clusters\n",
    "circle1 = plt.Circle((updated_m1[0], updated_m1[1]), radius=np.max(np.linalg.norm(cluster1_points - updated_m1, axis=1)), color='red', fill=False)\n",
    "circle2 = plt.Circle((updated_m2[0], updated_m2[1]), radius=np.max(np.linalg.norm(cluster2_points - updated_m2, axis=1)), color='green', fill=False)\n",
    "plt.gca().add_patch(circle1)\n",
    "plt.gca().add_patch(circle2)\n",
    "\n",
    "# Add labels and legend\n",
    "plt.xlabel('x')\n",
    "plt.ylabel('y')\n",
    "plt.title('K-means Clustering')\n",
    "\n",
    "\n",
    "# Show the plot\n",
    "plt.show()\n",
    "\n",
    "# Print the answers\n",
    "print(\"1] P6 belongs to Cluster\", p6_cluster)\n",
    "print(\"2] Population of cluster around m2:\", m2_population)\n",
    "print(\"3] Updated value of m1:\", updated_m1)\n",
    "print(\"   Updated value of m2:\", updated_m2)\n"
   ]
  },
  {
   "cell_type": "code",
   "execution_count": null,
   "id": "dbca1c7c",
   "metadata": {},
   "outputs": [],
   "source": []
  }
 ],
 "metadata": {
  "kernelspec": {
   "display_name": "Python 3 (ipykernel)",
   "language": "python",
   "name": "python3"
  },
  "language_info": {
   "codemirror_mode": {
    "name": "ipython",
    "version": 3
   },
   "file_extension": ".py",
   "mimetype": "text/x-python",
   "name": "python",
   "nbconvert_exporter": "python",
   "pygments_lexer": "ipython3",
   "version": "3.10.9"
  }
 },
 "nbformat": 4,
 "nbformat_minor": 5
}
