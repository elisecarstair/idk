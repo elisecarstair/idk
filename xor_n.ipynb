{
 "cells": [
  {
   "cell_type": "code",
   "execution_count": 1,
   "id": "3ab3009a",
   "metadata": {},
   "outputs": [
    {
     "name": "stdout",
     "output_type": "stream",
     "text": [
      "[0.0, 1.0, 1.0, 0.0]\n"
     ]
    }
   ],
   "source": [
    "import numpy as np\n",
    "\n",
    "x = np.array([[0,0], [0,1], [1,0], [1,1]])\n",
    "y = np.array([[0], [1], [1], [0]])\n",
    "\n",
    "def sigmoid(x):\n",
    "    return 1/(1+ np.exp(-x))\n",
    "\n",
    "weight_hidden = np.random.normal(0, 1, (2,4))\n",
    "weight_output = np.random.normal(0, 1, (4,1))\n",
    "\n",
    "bias_hidden = np.zeros((1, 4))\n",
    "bias_output = np.zeros((1,1))\n",
    "\n",
    "epoch_num = 10000\n",
    "lr = 0.1\n",
    "\n",
    "for i in range(epoch_num):\n",
    "\n",
    "    hidden_layer = sigmoid( np.dot(x, weight_hidden) + bias_hidden)\n",
    "    output_layer = sigmoid( np.dot(hidden_layer, weight_output) +bias_output )\n",
    "\n",
    "    output_error = y - output_layer\n",
    "    output_delta = output_error * output_layer * (1 - output_layer)\n",
    "    hidden_error =  np.dot( output_delta, weight_output.T )\n",
    "    hidden_delta = hidden_error * hidden_layer * (1 - hidden_layer)\n",
    "\n",
    "    weight_output += lr * np.dot(hidden_layer.T, output_delta)\n",
    "    bias_output += lr * np.sum(output_delta, axis=0, keepdims=True)\n",
    "    weight_hidden += lr * np.dot( x.T, hidden_delta )\n",
    "    bias_hidden += lr * np.sum( output_delta, axis=0, keepdims=True )\n",
    "\n",
    "\n",
    "z1 = np.dot( x, weight_hidden ) + bias_hidden\n",
    "a1 = sigmoid(z1)\n",
    "\n",
    "z2 = np.dot( a1, weight_output ) + bias_output\n",
    "a2 = sigmoid(z2)\n",
    "\n",
    "print(np.round(a2).flatten().tolist())"
   ]
  },
  {
   "cell_type": "code",
   "execution_count": null,
   "id": "628f2a5c",
   "metadata": {},
   "outputs": [],
   "source": []
  }
 ],
 "metadata": {
  "kernelspec": {
   "display_name": "Python 3 (ipykernel)",
   "language": "python",
   "name": "python3"
  },
  "language_info": {
   "codemirror_mode": {
    "name": "ipython",
    "version": 3
   },
   "file_extension": ".py",
   "mimetype": "text/x-python",
   "name": "python",
   "nbconvert_exporter": "python",
   "pygments_lexer": "ipython3",
   "version": "3.10.9"
  }
 },
 "nbformat": 4,
 "nbformat_minor": 5
}
